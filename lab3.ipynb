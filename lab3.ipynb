{
 "cells": [
  {
   "cell_type": "code",
   "execution_count": 13,
   "id": "14280191-8bd6-456c-a0df-994a95ce9a74",
   "metadata": {},
   "outputs": [
    {
     "name": "stdout",
     "output_type": "stream",
     "text": [
      "Predictions: [1 1]\n",
      "Confusion Matrix:\n",
      "[[0 1]\n",
      " [0 1]]\n",
      "Accuracy: 0.5\n"
     ]
    }
   ],
   "source": [
    "from sklearn import preprocessing\n",
    "from sklearn.neighbors import KNeighborsClassifier\n",
    "from sklearn.metrics import confusion_matrix, accuracy_score\n",
    "from sklearn.model_selection import train_test_split\n",
    "\n",
    "# Modified dataset\n",
    "weather = ['rainy', 'overcast', 'sunny', 'sunny', 'overcast', 'rainy', 'rainy', 'sunny', 'overcast']\n",
    "temperature = ['cool', 'hot', 'mild', 'cool', 'mild', 'mild', 'hot', 'cool', 'hot']\n",
    "play = ['yes', 'no', 'yes', 'no', 'yes', 'no', 'yes', 'yes', 'no']\n",
    "\n",
    "# Encoding features\n",
    "weather_encoder = preprocessing.LabelEncoder()\n",
    "temperature_encoder = preprocessing.LabelEncoder()\n",
    "play_encoder = preprocessing.LabelEncoder()\n",
    "\n",
    "weather_encoded = weather_encoder.fit_transform(weather)\n",
    "temperature_encoded = temperature_encoder.fit_transform(temperature)\n",
    "play_encoded = play_encoder.fit_transform(play)\n",
    "\n",
    "# Combine encoded features\n",
    "features = list(zip(weather_encoded, temperature_encoded))\n",
    "\n",
    "# Split the dataset\n",
    "features_train, features_test, label_train, label_test = train_test_split(features, play_encoded, test_size=0.2, random_state=42)\n",
    "\n",
    "# Create and train the KNN model\n",
    "model = KNeighborsClassifier(n_neighbors=3, metric='euclidean')\n",
    "model.fit(features_train, label_train)\n",
    "\n",
    "# Make predictions\n",
    "predicted = model.predict(features_test)\n",
    "\n",
    "# Print results\n",
    "print(\"Predictions:\", predicted)\n",
    "\n",
    "conf_mat = confusion_matrix(label_test, predicted)\n",
    "print(\"Confusion Matrix:\")\n",
    "print(conf_mat)\n",
    "\n",
    "accuracy = accuracy_score(label_test, predicted)\n",
    "print(\"Accuracy:\", accuracy)\n"
   ]
  },
  {
   "cell_type": "code",
   "execution_count": 15,
   "id": "745fb29c-4974-4a0c-9776-e5195f0a0ef2",
   "metadata": {},
   "outputs": [
    {
     "name": "stdout",
     "output_type": "stream",
     "text": [
      "Distances to each training sample: [(4.123105625617661, 'X'), (5.0990195135927845, 'Y'), (2.8284271247461903, 'X'), (2.23606797749979, 'Y')]\n",
      "Nearest neighbors: [(2.23606797749979, 'Y'), (2.8284271247461903, 'X'), (4.123105625617661, 'X')]\n",
      "Predicted class for query instance (4, 6): X\n"
     ]
    }
   ],
   "source": [
    "import numpy as np\n",
    "from collections import Counter\n",
    "\n",
    "# New training samples\n",
    "training_data = [\n",
    "    (8, 5, 'X'),  # Sample 1\n",
    "    (3, 1, 'Y'),  # Sample 2\n",
    "    (6, 4, 'X'),  # Sample 3\n",
    "    (2, 7, 'Y')   # Sample 4\n",
    "]\n",
    "\n",
    "# New query instance\n",
    "query_instance = (4, 6)\n",
    "\n",
    "# Step 1: Calculate Euclidean Distance between query and each training sample\n",
    "distances = []\n",
    "for x1, x2, label in training_data:\n",
    "    distance = np.sqrt((query_instance[0] - x1) ** 2 + (query_instance[1] - x2) ** 2)\n",
    "    distances.append((distance, label))\n",
    "\n",
    "# Step 2: Sort distances and select the nearest neighbors (K=3)\n",
    "k = 3\n",
    "sorted_distances = sorted(distances)  # Sort by distance\n",
    "nearest_neighbors = sorted_distances[:k]  # Take the first k neighbors\n",
    "\n",
    "# Step 3: Gather the classes of nearest neighbors\n",
    "neighbor_classes = [label for _, label in nearest_neighbors]\n",
    "\n",
    "# Step 4: Determine the majority class\n",
    "prediction = Counter(neighbor_classes).most_common(1)[0][0]\n",
    "\n",
    "# Print results\n",
    "print(\"Distances to each training sample:\", distances)\n",
    "print(\"Nearest neighbors:\", nearest_neighbors)\n",
    "print(\"Predicted class for query instance (4, 6):\", prediction)\n"
   ]
  },
  {
   "cell_type": "code",
   "execution_count": null,
   "id": "ab7e1589-1b3d-4335-8cfa-d6cf2263d1bf",
   "metadata": {},
   "outputs": [],
   "source": []
  }
 ],
 "metadata": {
  "kernelspec": {
   "display_name": "Python 3 (ipykernel)",
   "language": "python",
   "name": "python3"
  },
  "language_info": {
   "codemirror_mode": {
    "name": "ipython",
    "version": 3
   },
   "file_extension": ".py",
   "mimetype": "text/x-python",
   "name": "python",
   "nbconvert_exporter": "python",
   "pygments_lexer": "ipython3",
   "version": "3.12.7"
  }
 },
 "nbformat": 4,
 "nbformat_minor": 5
}
